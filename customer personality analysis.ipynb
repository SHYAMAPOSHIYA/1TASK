{
 "cells": [
  {
   "cell_type": "code",
   "execution_count": 1,
   "id": "b3f89100-037c-4a48-965d-da0f6fe41d8b",
   "metadata": {},
   "outputs": [],
   "source": [
    "import pandas as pd"
   ]
  },
  {
   "cell_type": "code",
   "execution_count": 2,
   "id": "ced8dada-cb76-44f1-888c-a382bb81062f",
   "metadata": {},
   "outputs": [],
   "source": [
    "df = pd.read_csv(\"Customer Personality Analysis.csv\")"
   ]
  },
  {
   "cell_type": "code",
   "execution_count": 3,
   "id": "69f3442d-c4c8-4ae5-a090-c66b9bc8fdcd",
   "metadata": {},
   "outputs": [
    {
     "data": {
      "text/plain": [
       "(2240, 29)"
      ]
     },
     "execution_count": 3,
     "metadata": {},
     "output_type": "execute_result"
    }
   ],
   "source": [
    "df.shape"
   ]
  },
  {
   "cell_type": "code",
   "execution_count": 5,
   "id": "107a1065-a0ef-4035-a82e-9ecdb77c5def",
   "metadata": {},
   "outputs": [
    {
     "name": "stdout",
     "output_type": "stream",
     "text": [
      "<class 'pandas.core.frame.DataFrame'>\n",
      "RangeIndex: 2240 entries, 0 to 2239\n",
      "Data columns (total 29 columns):\n",
      " #   Column               Non-Null Count  Dtype  \n",
      "---  ------               --------------  -----  \n",
      " 0   ID                   2240 non-null   int64  \n",
      " 1   Year_Birth           2240 non-null   int64  \n",
      " 2   Education            2240 non-null   object \n",
      " 3   Marital_Status       2240 non-null   object \n",
      " 4   Income               2216 non-null   float64\n",
      " 5   Kidhome              2240 non-null   int64  \n",
      " 6   Teenhome             2240 non-null   int64  \n",
      " 7   Dt_Customer          2240 non-null   object \n",
      " 8   Recency              2240 non-null   int64  \n",
      " 9   MntWines             2240 non-null   int64  \n",
      " 10  MntFruits            2240 non-null   int64  \n",
      " 11  MntMeatProducts      2240 non-null   int64  \n",
      " 12  MntFishProducts      2240 non-null   int64  \n",
      " 13  MntSweetProducts     2240 non-null   int64  \n",
      " 14  MntGoldProds         2240 non-null   int64  \n",
      " 15  NumDealsPurchases    2240 non-null   int64  \n",
      " 16  NumWebPurchases      2240 non-null   int64  \n",
      " 17  NumCatalogPurchases  2240 non-null   int64  \n",
      " 18  NumStorePurchases    2240 non-null   int64  \n",
      " 19  NumWebVisitsMonth    2240 non-null   int64  \n",
      " 20  AcceptedCmp3         2240 non-null   int64  \n",
      " 21  AcceptedCmp4         2240 non-null   int64  \n",
      " 22  AcceptedCmp5         2240 non-null   int64  \n",
      " 23  AcceptedCmp1         2240 non-null   int64  \n",
      " 24  AcceptedCmp2         2240 non-null   int64  \n",
      " 25  Complain             2240 non-null   int64  \n",
      " 26  Z_CostContact        2240 non-null   int64  \n",
      " 27  Z_Revenue            2240 non-null   int64  \n",
      " 28  Response             2240 non-null   int64  \n",
      "dtypes: float64(1), int64(25), object(3)\n",
      "memory usage: 507.6+ KB\n"
     ]
    }
   ],
   "source": [
    "df.info()"
   ]
  },
  {
   "cell_type": "code",
   "execution_count": 6,
   "id": "98e1dc9c-466d-4367-bc22-fbae22b05a1e",
   "metadata": {},
   "outputs": [],
   "source": [
    "df=df.drop_duplicates()"
   ]
  },
  {
   "cell_type": "code",
   "execution_count": 7,
   "id": "2670ddf3-ca10-4da2-9324-81c6a3fd1b89",
   "metadata": {},
   "outputs": [
    {
     "data": {
      "text/plain": [
       "(2240, 29)"
      ]
     },
     "execution_count": 7,
     "metadata": {},
     "output_type": "execute_result"
    }
   ],
   "source": [
    "df.shape"
   ]
  },
  {
   "cell_type": "code",
   "execution_count": 8,
   "id": "e4b14bd2-c81e-4a51-b96f-fa9c67412f15",
   "metadata": {},
   "outputs": [
    {
     "data": {
      "text/plain": [
       "ID                      0\n",
       "Year_Birth              0\n",
       "Education               0\n",
       "Marital_Status          0\n",
       "Income                 24\n",
       "Kidhome                 0\n",
       "Teenhome                0\n",
       "Dt_Customer             0\n",
       "Recency                 0\n",
       "MntWines                0\n",
       "MntFruits               0\n",
       "MntMeatProducts         0\n",
       "MntFishProducts         0\n",
       "MntSweetProducts        0\n",
       "MntGoldProds            0\n",
       "NumDealsPurchases       0\n",
       "NumWebPurchases         0\n",
       "NumCatalogPurchases     0\n",
       "NumStorePurchases       0\n",
       "NumWebVisitsMonth       0\n",
       "AcceptedCmp3            0\n",
       "AcceptedCmp4            0\n",
       "AcceptedCmp5            0\n",
       "AcceptedCmp1            0\n",
       "AcceptedCmp2            0\n",
       "Complain                0\n",
       "Z_CostContact           0\n",
       "Z_Revenue               0\n",
       "Response                0\n",
       "dtype: int64"
      ]
     },
     "execution_count": 8,
     "metadata": {},
     "output_type": "execute_result"
    }
   ],
   "source": [
    "# to check missinng values\n",
    "df.isnull().sum()"
   ]
  },
  {
   "cell_type": "code",
   "execution_count": 9,
   "id": "9cf37279-e017-4c73-b3e5-c27ec1197d20",
   "metadata": {},
   "outputs": [],
   "source": [
    "# filling the missing values in income column by medain\n",
    "df['Income']=df['Income'].fillna(df['Income'].median())"
   ]
  },
  {
   "cell_type": "code",
   "execution_count": 10,
   "id": "2c1c4ed4-6aa7-47f5-8c24-02d89125d2d8",
   "metadata": {},
   "outputs": [],
   "source": [
    "# Converting Dt_Customer into Datetime format\n",
    "df['Dt_Customer']= pd.to_datetime(df['Dt_Customer'] ,dayfirst=True)"
   ]
  },
  {
   "cell_type": "code",
   "execution_count": 12,
   "id": "66eb00c1-743e-4fbf-a87a-7e14653268a4",
   "metadata": {},
   "outputs": [],
   "source": [
    "#Converting columns headers to be clean and uniform \n",
    "df.columns=df.columns.str.lower().str.replace(' ','_')"
   ]
  },
  {
   "cell_type": "code",
   "execution_count": 15,
   "id": "866f92a5-bd7c-4ce5-a1f2-00d85d0934d9",
   "metadata": {},
   "outputs": [],
   "source": [
    "# standardizing text values in title case\n",
    "df['education']= df['education'].str.strip().str.title()\n",
    "df['marital_status']=df['marital_status'].str.strip().str.title()"
   ]
  },
  {
   "cell_type": "code",
   "execution_count": 17,
   "id": "5ddcfa93-d467-4111-b7cc-2929c087335e",
   "metadata": {},
   "outputs": [
    {
     "data": {
      "text/plain": [
       "id                              int64\n",
       "year_birth                      int64\n",
       "education                      object\n",
       "marital_status                 object\n",
       "income                        float64\n",
       "kidhome                         int64\n",
       "teenhome                        int64\n",
       "dt_customer            datetime64[ns]\n",
       "recency                         int64\n",
       "mntwines                        int64\n",
       "mntfruits                       int64\n",
       "mntmeatproducts                 int64\n",
       "mntfishproducts                 int64\n",
       "mntsweetproducts                int64\n",
       "mntgoldprods                    int64\n",
       "numdealspurchases               int64\n",
       "numwebpurchases                 int64\n",
       "numcatalogpurchases             int64\n",
       "numstorepurchases               int64\n",
       "numwebvisitsmonth               int64\n",
       "acceptedcmp3                    int64\n",
       "acceptedcmp4                    int64\n",
       "acceptedcmp5                    int64\n",
       "acceptedcmp1                    int64\n",
       "acceptedcmp2                    int64\n",
       "complain                        int64\n",
       "z_costcontact                   int64\n",
       "z_revenue                       int64\n",
       "response                        int64\n",
       "dtype: object"
      ]
     },
     "execution_count": 17,
     "metadata": {},
     "output_type": "execute_result"
    }
   ],
   "source": [
    "# checking the dtypes\n",
    "df.dtypes"
   ]
  },
  {
   "cell_type": "code",
   "execution_count": 18,
   "id": "d6ab0204-3624-4c73-ae28-7bbf2bd0b4a3",
   "metadata": {},
   "outputs": [
    {
     "name": "stdout",
     "output_type": "stream",
     "text": [
      "\n",
      "Cleaned dataset saved to: cleaned_customer_personality.csv\n"
     ]
    }
   ],
   "source": [
    "cleaned_file_path = \"cleaned_customer_personality.csv\"\n",
    "df.to_csv(cleaned_file_path, index=False)\n",
    "print(\"\\nCleaned dataset saved to:\", cleaned_file_path)"
   ]
  },
  {
   "cell_type": "code",
   "execution_count": null,
   "id": "6dfb5809-704b-49a7-aaff-36242c019497",
   "metadata": {},
   "outputs": [],
   "source": []
  }
 ],
 "metadata": {
  "kernelspec": {
   "display_name": "Python 3 (ipykernel)",
   "language": "python",
   "name": "python3"
  },
  "language_info": {
   "codemirror_mode": {
    "name": "ipython",
    "version": 3
   },
   "file_extension": ".py",
   "mimetype": "text/x-python",
   "name": "python",
   "nbconvert_exporter": "python",
   "pygments_lexer": "ipython3",
   "version": "3.12.4"
  }
 },
 "nbformat": 4,
 "nbformat_minor": 5
}
